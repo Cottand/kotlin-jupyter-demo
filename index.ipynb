{
 "cells": [
  {
   "cell_type": "markdown",
   "metadata": {},
   "source": [
    "# Kotlin for Jupyter Notebooks"
   ]
  },
  {
   "cell_type": "markdown",
   "metadata": {},
   "source": [
    "Over the last several years, following the growing importance of data science, [Jupyter notebooks](https://jupyter.org/) have proven to be a de-facto standard tool for data scientists as well as any other people working with data. Thanks to their interactivity, Jupyter notebooks are very convenient for transforming, visualizing and presenting data. Thanks to the extensibility and the open-source nature of Jupyter, it has turned into a large ecosystem around data science and got integrated into tons of other solutions related to data."
   ]
  },
  {
   "cell_type": "markdown",
   "metadata": {},
   "source": [
    "Just as Jupyter has become a de-facto standard tool for data scientists, Python has become a de-facto standard language for data scientists. In addition to being a language, Python has created a wide and rich ecosystem of data science tools, frameworks and libraries."
   ]
  },
  {
   "cell_type": "markdown",
   "metadata": {},
   "source": [
    "Despite the fact that Python is a language of choice for most Jupyter users, Jupyter in fact is a polyglot tool and its language support can be easily extended. In order to provide the support for a language, one must implement a Jupyter kernel (a sort of Jupyter backend plugins) responsible for execution and rendering of cells.  There are Jupyter kernels implemented by the community for Julia, R, and [dozens of other languages](https://github.com/jupyter/jupyter/wiki/Jupyter-kernels), including [Kotlin](https://kotlinlang.org/)."
   ]
  },
  {
   "cell_type": "markdown",
   "metadata": {},
   "source": [
    "Why Kotlin? First, Kotlin is a modern JVM language with fast-growing mindshare. It would be a pity if those who use Kotlin won’t be able to use it with Jupyter. Second, over the last few years, Kotlin has overgrown the market of JVM development and is ready to expand further into other platforms. The major traits of Kotlin (due to its design) include conciseness, safety, and interoperability. Those are fundamental language traits making it great across a wide variety of tasks and platforms. Data science is certainly one of these tasks. The great news here is that that the community has already started adopting Kotlin for data science. It’s very much recommended to watch a [talk](https://www.youtube.com/watch?v=yjVW6uCmVBA) by Holger Brandl (the creator of [krangl](https://github.com/holgerbrandl/krangl), a Kotlin’s analog of Python’s pandas) or another [talk](https://www.youtube.com/watch?v=-zTqtEcnM7A&feature=youtu.be) by Thomas Nield (the creator of [kotlin-statistics](https://github.com/thomasnield/kotlin-statistics)), or read his [article](https://towardsdatascience.com/introduction-to-kotlin-statistics-cdad3be88b5)."
   ]
  },
  {
   "cell_type": "markdown",
   "metadata": {},
   "source": [
    "### Running cells"
   ]
  },
  {
   "cell_type": "markdown",
   "metadata": {},
   "source": [
    "Here's a simple example with Kotlin code:"
   ]
  },
  {
   "cell_type": "code",
   "execution_count": 13,
   "metadata": {},
   "outputs": [],
   "source": [
    "class Greeter(val name: String) {\n",
    "    fun greet() {\n",
    "        println(\"Hello, $name!\")\n",
    "    }\n",
    "}"
   ]
  },
  {
   "cell_type": "code",
   "execution_count": 25,
   "metadata": {},
   "outputs": [
    {
     "name": "stdout",
     "output_type": "stream",
     "text": [
      "Hello, Jupyter!\n"
     ]
    }
   ],
   "source": [
    "Greeter(\"Jupyter\").greet() // Run me"
   ]
  },
  {
   "cell_type": "markdown",
   "metadata": {},
   "source": [
    "### Configuring Maven dependencies"
   ]
  },
  {
   "cell_type": "markdown",
   "metadata": {},
   "source": [
    "Here's another example, courtsey of [thomasnield/kotlin-statistics](https://github.com/thomasnield/kotlin-statistics), showcasing how to load additional dependencies to the notebook from Maven repos:"
   ]
  },
  {
   "cell_type": "code",
   "execution_count": 21,
   "metadata": {},
   "outputs": [],
   "source": [
    "@file:Repository(\"https://repo1.maven.org/maven2\")\n",
    "@file:DependsOn(\"org.nield:kotlin-statistics:1.2.1\")"
   ]
  },
  {
   "cell_type": "code",
   "execution_count": 18,
   "metadata": {},
   "outputs": [],
   "source": [
    "import java.time.LocalDate\n",
    "import java.time.temporal.ChronoUnit\n",
    "import org.nield.kotlinstatistics.*\n",
    "\n",
    "data class Patient(val firstName: String,\n",
    "                   val lastName: String,\n",
    "                   val gender: Gender,\n",
    "                   val birthday: LocalDate,\n",
    "                   val whiteBloodCellCount: Int) {\n",
    "\n",
    "    val age = ChronoUnit.YEARS.between(birthday, LocalDate.now())\n",
    "}\n",
    "\n",
    "val patients = listOf(\n",
    "        Patient(\"John\", \"Simone\", Gender.MALE, LocalDate.of(1989, 1, 7), 4500),\n",
    "        Patient(\"Sarah\", \"Marley\", Gender.FEMALE, LocalDate.of(1970, 2, 5), 6700),\n",
    "        Patient(\"Jessica\", \"Arnold\", Gender.FEMALE, LocalDate.of(1980, 3, 9), 3400),\n",
    "        Patient(\"Sam\", \"Beasley\", Gender.MALE, LocalDate.of(1981, 4, 17), 8800),\n",
    "        Patient(\"Dan\", \"Forney\", Gender.MALE, LocalDate.of(1985, 9, 13), 5400),\n",
    "        Patient(\"Lauren\", \"Michaels\", Gender.FEMALE, LocalDate.of(1975, 8, 21), 5000),\n",
    "        Patient(\"Michael\", \"Erlich\", Gender.MALE, LocalDate.of(1985, 12, 17), 4100),\n",
    "        Patient(\"Jason\", \"Miles\", Gender.MALE, LocalDate.of(1991, 11, 1), 3900),\n",
    "        Patient(\"Rebekah\", \"Earley\", Gender.FEMALE, LocalDate.of(1985, 2, 18), 4600),\n",
    "        Patient(\"James\", \"Larson\", Gender.MALE, LocalDate.of(1974, 4, 10), 5100),\n",
    "        Patient(\"Dan\", \"Ulrech\", Gender.MALE, LocalDate.of(1991, 7, 11), 6000),\n",
    "        Patient(\"Heather\", \"Eisner\", Gender.FEMALE, LocalDate.of(1994, 3, 6), 6000),\n",
    "        Patient(\"Jasper\", \"Martin\", Gender.MALE, LocalDate.of(1971, 7, 1), 6000)\n",
    ")\n",
    "\n",
    "enum class Gender {\n",
    "    MALE,\n",
    "    FEMALE\n",
    "}\n",
    "\n",
    "val clusters = patients.multiKMeansCluster(k = 3,\n",
    "        maxIterations = 10000,\n",
    "        trialCount = 50,\n",
    "        xSelector = { it.age.toDouble() },\n",
    "        ySelector = { it.whiteBloodCellCount.toDouble() }\n",
    ")"
   ]
  },
  {
   "cell_type": "code",
   "execution_count": 19,
   "metadata": {},
   "outputs": [
    {
     "name": "stdout",
     "output_type": "stream",
     "text": [
      "CENTROID: 0\n",
      "\tPatient(firstName=Sarah, lastName=Marley, gender=FEMALE, birthday=1970-02-05, whiteBloodCellCount=6700)\n",
      "\tPatient(firstName=Sam, lastName=Beasley, gender=MALE, birthday=1981-04-17, whiteBloodCellCount=8800)\n",
      "CENTROID: 1\n",
      "\tPatient(firstName=John, lastName=Simone, gender=MALE, birthday=1989-01-07, whiteBloodCellCount=4500)\n",
      "\tPatient(firstName=Jessica, lastName=Arnold, gender=FEMALE, birthday=1980-03-09, whiteBloodCellCount=3400)\n",
      "\tPatient(firstName=Michael, lastName=Erlich, gender=MALE, birthday=1985-12-17, whiteBloodCellCount=4100)\n",
      "\tPatient(firstName=Jason, lastName=Miles, gender=MALE, birthday=1991-11-01, whiteBloodCellCount=3900)\n",
      "\tPatient(firstName=Rebekah, lastName=Earley, gender=FEMALE, birthday=1985-02-18, whiteBloodCellCount=4600)\n",
      "CENTROID: 2\n",
      "\tPatient(firstName=Dan, lastName=Forney, gender=MALE, birthday=1985-09-13, whiteBloodCellCount=5400)\n",
      "\tPatient(firstName=Lauren, lastName=Michaels, gender=FEMALE, birthday=1975-08-21, whiteBloodCellCount=5000)\n",
      "\tPatient(firstName=James, lastName=Larson, gender=MALE, birthday=1974-04-10, whiteBloodCellCount=5100)\n",
      "\tPatient(firstName=Dan, lastName=Ulrech, gender=MALE, birthday=1991-07-11, whiteBloodCellCount=6000)\n",
      "\tPatient(firstName=Heather, lastName=Eisner, gender=FEMALE, birthday=1994-03-06, whiteBloodCellCount=6000)\n",
      "\tPatient(firstName=Jasper, lastName=Martin, gender=MALE, birthday=1971-07-01, whiteBloodCellCount=6000)\n"
     ]
    }
   ],
   "source": [
    "clusters.forEachIndexed { index, item ->\n",
    "    println(\"CENTROID: $index\")\n",
    "    item.points.forEach {\n",
    "        println(\"\\t$it\")\n",
    "    }\n",
    "}"
   ]
  },
  {
   "cell_type": "markdown",
   "metadata": {},
   "source": [
    "### Configuring the built-in  via magics"
   ]
  },
  {
   "cell_type": "markdown",
   "metadata": {},
   "source": [
    "For a more straightforward, the Kotlin kernel pre-configures certain libraries, and allows the notebook user to load them via special commands, also known as [magics](https://ipython.readthedocs.io/en/stable/interactive/magics.html). To pre-configure a library for a notebook, one must use its name prepened with `%%`. Here's how it works:"
   ]
  },
  {
   "cell_type": "code",
   "execution_count": 24,
   "metadata": {},
   "outputs": [],
   "source": [
    "%%kotlin-statistics"
   ]
  },
  {
   "cell_type": "markdown",
   "metadata": {},
   "source": [
    "When such a cell is executed, the kernel, makes sure the corresponding Maven repo is configured, the library is loaded, necessary import statements are added (e.g. in that case `import org.nield.kotlinstatistics.*` won't be needed), and necessary renderers are configured. The supported magics now include: [`%%kotlin-statistics`](https://github.com/thomasnield/kotlin-statistics), [`%%klaxon`](https://github.com/cbeust/klaxon), [`%%krangl`](https://github.com/holgerbrandl/krangl), [`%%kravis`](https://github.com/holgerbrandl/kravis), and [`%%ggplot`](https://github.com/jetbrains/datalore-plot)."
   ]
  },
  {
   "cell_type": "markdown",
   "metadata": {},
   "source": [
    "Here's another example, showcasing [`%%krangl`](https://github.com/holgerbrandl/krangl), and [`%%ggplot`](https://github.com/jetbrains/datalore-plot) libraries:"
   ]
  },
  {
   "cell_type": "code",
   "execution_count": 66,
   "metadata": {},
   "outputs": [
    {
     "data": {
      "text/html": [
       "<div id=\"2fAq2g\"></div>\n",
       "                   <script type=\"text/javascript\">\n",
       "                       if(!window.datalorePlotCallQueue) {\n",
       "                           window.datalorePlotCallQueue = [];\n",
       "                       }; \n",
       "                       window.datalorePlotCall = function(f) {\n",
       "                           window.datalorePlotCallQueue.push(f);\n",
       "                       };\n",
       "                       (function() {\n",
       "                           var script = document.createElement(\"script\");\n",
       "                           script.type = \"text/javascript\";\n",
       "                           script.src = \"https://dl.bintray.com/jetbrains/datalore-plot/datalore-plot-0.0.1rc4.min.js\";\n",
       "                           script.onload = function() {\n",
       "                               window.datalorePlotCall = function(f) {f();};\n",
       "                               window.datalorePlotCallQueue.forEach(function(f) {f();});\n",
       "                               window.datalorePlotCallQueue = [];\n",
       "                               \n",
       "                   var div = document.createElement(\"div\");\n",
       "                   div.style.color = 'darkblue';\n",
       "                   div.textContent = 'Datalore Plot JS successfully loaded.';\n",
       "                   document.getElementById(\"2fAq2g\").appendChild(div);\n",
       "               \n",
       "                           };\n",
       "                           script.onerror = function(event) {\n",
       "                               window.datalorePlotCall = function(f) {};\n",
       "                               window.datalorePlotCallQueue = [];\n",
       "                               var div = document.createElement(\"div\");\n",
       "                               div.style.color = 'darkred';\n",
       "                               div.textContent = 'Error loading Datalore Plot JS';\n",
       "                               document.getElementById(\"2fAq2g\").appendChild(div);\n",
       "                           };\n",
       "                           var e = document.getElementById(\"2fAq2g\");\n",
       "                           e.appendChild(script);\n",
       "                       })()\n",
       "                   </script>"
      ]
     },
     "metadata": {},
     "output_type": "display_data"
    }
   ],
   "source": [
    "%%ggplot\n",
    "%%krangl"
   ]
  },
  {
   "cell_type": "code",
   "execution_count": 43,
   "metadata": {},
   "outputs": [
    {
     "data": {
      "text/plain": [
       "A DataFrame: 5 x 5"
      ]
     },
     "execution_count": 43,
     "metadata": {
      "isolated": "True"
     },
     "output_type": "execute_result"
    },
    {
     "data": {
      "text/html": [
       "<table><tr><th>sepal_length</th><th>sepal_width</th><th>petal_length</th><th>petal_width</th><th>species</th></tr><tr><td>5.1</td><td>3.5</td><td>1.4</td><td>0.2</td><td>Iris-setosa</td></tr><tr><td>4.9</td><td>3.0</td><td>1.4</td><td>0.2</td><td>Iris-setosa</td></tr><tr><td>4.7</td><td>3.2</td><td>1.3</td><td>0.2</td><td>Iris-setosa</td></tr><tr><td>4.6</td><td>3.1</td><td>1.5</td><td>0.2</td><td>Iris-setosa</td></tr><tr><td>5.0</td><td>3.6</td><td>1.4</td><td>0.2</td><td>Iris-setosa</td></tr></table>"
      ]
     },
     "metadata": {},
     "output_type": "display_data"
    }
   ],
   "source": [
    "val df = DataFrame.readCSV(\"data/iris.csv\")\n",
    "df.head()"
   ]
  },
  {
   "cell_type": "code",
   "execution_count": 77,
   "metadata": {},
   "outputs": [
    {
     "data": {
      "text/plain": [
       "A DataFrame: 3 x 2"
      ]
     },
     "execution_count": 77,
     "metadata": {
      "isolated": "True"
     },
     "output_type": "execute_result"
    },
    {
     "data": {
      "text/html": [
       "<table><tr><th>species</th><th>n</th></tr><tr><td>Iris-setosa</td><td>50</td></tr><tr><td>Iris-versicolor</td><td>50</td></tr><tr><td>Iris-virginica</td><td>50</td></tr></table>"
      ]
     },
     "metadata": {},
     "output_type": "display_data"
    }
   ],
   "source": [
    "df.groupBy(\"species\").count()"
   ]
  },
  {
   "cell_type": "code",
   "execution_count": 105,
   "metadata": {},
   "outputs": [
    {
     "data": {
      "text/plain": [
       "Plot(data=null, mapping=jetbrains.datalorePlot.intern.Options@49c28e24, features=[jetbrains.datalorePlot.geom.geom_point@13626996])"
      ]
     },
     "execution_count": 105,
     "metadata": {
      "isolated": "True"
     },
     "output_type": "execute_result"
    },
    {
     "data": {
      "text/html": [
       "\n",
       "            <div id=\"plot_output_m4Azdp\"></div>\n",
       "            <script type=\"text/javascript\">\n",
       "                var plotSpec={\n",
       "'mapping':{\n",
       "},\n",
       "'kind':\"plot\",\n",
       "'scales':[],\n",
       "'layers':[{\n",
       "'stat':\"identity\",\n",
       "'mapping':{\n",
       "'color':\"color\",\n",
       "'x':\"x\",\n",
       "'y':\"y\"\n",
       "},\n",
       "'data':{\n",
       "'color':[\"Iris-setosa\",\"Iris-setosa\",\"Iris-setosa\",\"Iris-setosa\",\"Iris-setosa\",\"Iris-setosa\",\"Iris-setosa\",\"Iris-setosa\",\"Iris-setosa\",\"Iris-setosa\",\"Iris-setosa\",\"Iris-setosa\",\"Iris-setosa\",\"Iris-setosa\",\"Iris-setosa\",\"Iris-setosa\",\"Iris-setosa\",\"Iris-setosa\",\"Iris-setosa\",\"Iris-setosa\",\"Iris-setosa\",\"Iris-setosa\",\"Iris-setosa\",\"Iris-setosa\",\"Iris-setosa\",\"Iris-setosa\",\"Iris-setosa\",\"Iris-setosa\",\"Iris-setosa\",\"Iris-setosa\",\"Iris-setosa\",\"Iris-setosa\",\"Iris-setosa\",\"Iris-setosa\",\"Iris-setosa\",\"Iris-setosa\",\"Iris-setosa\",\"Iris-setosa\",\"Iris-setosa\",\"Iris-setosa\",\"Iris-setosa\",\"Iris-setosa\",\"Iris-setosa\",\"Iris-setosa\",\"Iris-setosa\",\"Iris-setosa\",\"Iris-setosa\",\"Iris-setosa\",\"Iris-setosa\",\"Iris-setosa\",\"Iris-versicolor\",\"Iris-versicolor\",\"Iris-versicolor\",\"Iris-versicolor\",\"Iris-versicolor\",\"Iris-versicolor\",\"Iris-versicolor\",\"Iris-versicolor\",\"Iris-versicolor\",\"Iris-versicolor\",\"Iris-versicolor\",\"Iris-versicolor\",\"Iris-versicolor\",\"Iris-versicolor\",\"Iris-versicolor\",\"Iris-versicolor\",\"Iris-versicolor\",\"Iris-versicolor\",\"Iris-versicolor\",\"Iris-versicolor\",\"Iris-versicolor\",\"Iris-versicolor\",\"Iris-versicolor\",\"Iris-versicolor\",\"Iris-versicolor\",\"Iris-versicolor\",\"Iris-versicolor\",\"Iris-versicolor\",\"Iris-versicolor\",\"Iris-versicolor\",\"Iris-versicolor\",\"Iris-versicolor\",\"Iris-versicolor\",\"Iris-versicolor\",\"Iris-versicolor\",\"Iris-versicolor\",\"Iris-versicolor\",\"Iris-versicolor\",\"Iris-versicolor\",\"Iris-versicolor\",\"Iris-versicolor\",\"Iris-versicolor\",\"Iris-versicolor\",\"Iris-versicolor\",\"Iris-versicolor\",\"Iris-versicolor\",\"Iris-versicolor\",\"Iris-versicolor\",\"Iris-versicolor\",\"Iris-versicolor\",\"Iris-virginica\",\"Iris-virginica\",\"Iris-virginica\",\"Iris-virginica\",\"Iris-virginica\",\"Iris-virginica\",\"Iris-virginica\",\"Iris-virginica\",\"Iris-virginica\",\"Iris-virginica\",\"Iris-virginica\",\"Iris-virginica\",\"Iris-virginica\",\"Iris-virginica\",\"Iris-virginica\",\"Iris-virginica\",\"Iris-virginica\",\"Iris-virginica\",\"Iris-virginica\",\"Iris-virginica\",\"Iris-virginica\",\"Iris-virginica\",\"Iris-virginica\",\"Iris-virginica\",\"Iris-virginica\",\"Iris-virginica\",\"Iris-virginica\",\"Iris-virginica\",\"Iris-virginica\",\"Iris-virginica\",\"Iris-virginica\",\"Iris-virginica\",\"Iris-virginica\",\"Iris-virginica\",\"Iris-virginica\",\"Iris-virginica\",\"Iris-virginica\",\"Iris-virginica\",\"Iris-virginica\",\"Iris-virginica\",\"Iris-virginica\",\"Iris-virginica\",\"Iris-virginica\",\"Iris-virginica\",\"Iris-virginica\",\"Iris-virginica\",\"Iris-virginica\",\"Iris-virginica\",\"Iris-virginica\",\"Iris-virginica\"],\n",
       "'x':[5.1,4.9,4.7,4.6,5.0,5.4,4.6,5.0,4.4,4.9,5.4,4.8,4.8,4.3,5.8,5.7,5.4,5.1,5.7,5.1,5.4,5.1,4.6,5.1,4.8,5.0,5.0,5.2,5.2,4.7,4.8,5.4,5.2,5.5,4.9,5.0,5.5,4.9,4.4,5.1,5.0,4.5,4.4,5.0,5.1,4.8,5.1,4.6,5.3,5.0,7.0,6.4,6.9,5.5,6.5,5.7,6.3,4.9,6.6,5.2,5.0,5.9,6.0,6.1,5.6,6.7,5.6,5.8,6.2,5.6,5.9,6.1,6.3,6.1,6.4,6.6,6.8,6.7,6.0,5.7,5.5,5.5,5.8,6.0,5.4,6.0,6.7,6.3,5.6,5.5,5.5,6.1,5.8,5.0,5.6,5.7,5.7,6.2,5.1,5.7,6.3,5.8,7.1,6.3,6.5,7.6,4.9,7.3,6.7,7.2,6.5,6.4,6.8,5.7,5.8,6.4,6.5,7.7,7.7,6.0,6.9,5.6,7.7,6.3,6.7,7.2,6.2,6.1,6.4,7.2,7.4,7.9,6.4,6.3,6.1,7.7,6.3,6.4,6.0,6.9,6.7,6.9,5.8,6.8,6.7,6.7,6.3,6.5,6.2,5.9],\n",
       "'y':[3.5,3.0,3.2,3.1,3.6,3.9,3.4,3.4,2.9,3.1,3.7,3.4,3.0,3.0,4.0,4.4,3.9,3.5,3.8,3.8,3.4,3.7,3.6,3.3,3.4,3.0,3.4,3.5,3.4,3.2,3.1,3.4,4.1,4.2,3.1,3.2,3.5,3.1,3.0,3.4,3.5,2.3,3.2,3.5,3.8,3.0,3.8,3.2,3.7,3.3,3.2,3.2,3.1,2.3,2.8,2.8,3.3,2.4,2.9,2.7,2.0,3.0,2.2,2.9,2.9,3.1,3.0,2.7,2.2,2.5,3.2,2.8,2.5,2.8,2.9,3.0,2.8,3.0,2.9,2.6,2.4,2.4,2.7,2.7,3.0,3.4,3.1,2.3,3.0,2.5,2.6,3.0,2.6,2.3,2.7,3.0,2.9,2.9,2.5,2.8,3.3,2.7,3.0,2.9,3.0,3.0,2.5,2.9,2.5,3.6,3.2,2.7,3.0,2.5,2.8,3.2,3.0,3.8,2.6,2.2,3.2,2.8,2.8,2.7,3.3,3.2,2.8,3.0,2.8,3.0,2.8,3.8,2.8,2.8,2.6,3.0,3.4,3.1,3.0,3.1,3.1,3.1,2.7,3.2,3.3,3.0,2.5,3.0,3.4,3.0]\n",
       "},\n",
       "'alpha':1.0,\n",
       "'position':\"identity\",\n",
       "'geom':\"point\"\n",
       "}]\n",
       "};\n",
       "\n",
       "                var plotContainer = document.getElementById(\"plot_output_m4Azdp\");\n",
       "                DatalorePlot.buildPlotFromProcessedSpecs(plotSpec, -1, -1, plotContainer);\n",
       "            </script>\n",
       "        "
      ]
     },
     "metadata": {},
     "output_type": "display_data"
    }
   ],
   "source": [
    "val points = geom_point(\n",
    "    data = mapOf(\n",
    "        \"x\" to df[\"sepal_length\"].asDoubles().toList(),\n",
    "        \"y\" to df[\"sepal_width\"].asDoubles().toList(),\n",
    "        \"color\" to df[\"species\"].asStrings().toList()\n",
    "        \n",
    "    ), alpha=1.0)\n",
    "{\n",
    "    x = \"x\" \n",
    "    y = \"y\"\n",
    "    color = \"color\"\n",
    "}\n",
    "\n",
    "ggplot() + points"
   ]
  },
  {
   "cell_type": "markdown",
   "metadata": {},
   "source": [
    "### Installation"
   ]
  },
  {
   "cell_type": "markdown",
   "metadata": {},
   "source": [
    "Currently, Kotlin Jupyter kernel can be installed only via [conda](https://conda.io/en/latest/):\n",
    "\n",
    "```bash\n",
    "conda install kotlin-jupyter-kernel -c jetbrains\n",
    "```\n",
    "\n",
    "Later it will be also possible to install it via `pip install`.\n",
    "\n",
    "Note, Kotlin Jupyter requires Java 8 to be installed:\n",
    "\n",
    "```bash\n",
    "apt-get install openjdk-8-jre\n",
    "```\n",
    "\n",
    "Once these requirements are satisfied, feel free to run `jupyter notebook` and switch to `Kotlin` kernel."
   ]
  },
  {
   "cell_type": "markdown",
   "metadata": {},
   "source": [
    "### Other useful information"
   ]
  },
  {
   "cell_type": "markdown",
   "metadata": {},
   "source": [
    "To be added (on limitations, sources, roadmap, contribution, library integration, and other useful links)..."
   ]
  },
  {
   "cell_type": "code",
   "execution_count": null,
   "metadata": {},
   "outputs": [],
   "source": []
  }
 ],
 "metadata": {
  "kernelspec": {
   "display_name": "Kotlin",
   "language": "kotlin",
   "name": "kotlin"
  },
  "language_info": {
   "codemirror_mode": "text/x-kotlin",
   "file_extension": "kt",
   "name": "kotlin"
  }
 },
 "nbformat": 4,
 "nbformat_minor": 2
}
